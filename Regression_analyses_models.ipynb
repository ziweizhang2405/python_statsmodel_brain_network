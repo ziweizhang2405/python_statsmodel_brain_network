{
 "cells": [
  {
   "cell_type": "markdown",
   "source": [
    "Python libraries:"
   ],
   "metadata": {
    "collapsed": false
   }
  },
  {
   "cell_type": "code",
   "execution_count": null,
   "outputs": [],
   "source": [
    "# handling dataframes:\n",
    "import pandas\n",
    "import numpy\n",
    "\n",
    "# plot:\n",
    "import seaborn as sns\n",
    "\n",
    "# regression analyses:\n",
    "import statsmodels.formula.api as smf\n",
    "\n",
    "# multiple comparison correction:\n",
    "import statsmodels.stats.multitest as multiest"
   ],
   "metadata": {
    "collapsed": false
   }
  },
  {
   "cell_type": "markdown",
   "source": [
    "Regression analyses models"
   ],
   "metadata": {
    "collapsed": false
   }
  },
  {
   "cell_type": "markdown",
   "source": [
    "#### I. Examining the effects of age and dementia severity on brain system segregation:"
   ],
   "metadata": {
    "collapsed": false
   }
  },
  {
   "cell_type": "code",
   "execution_count": null,
   "outputs": [],
   "source": [
    "covariates = 'C(Gender, Sum) + C(APOE4_group, Sum) + C(Educ_group, Sum) + FD_postscrub + Pulse + Respiration'"
   ],
   "metadata": {
    "collapsed": false
   }
  },
  {
   "cell_type": "markdown",
   "source": [
    "1. The independent effects of age and CDR rating on cortex-wide system segregation:"
   ],
   "metadata": {
    "collapsed": false
   }
  },
  {
   "cell_type": "code",
   "execution_count": null,
   "outputs": [],
   "source": [
    "DV = 'wb_seg' # cortex-wide system segregation as the dependent variable\n",
    "formula1 = DV + '~ Age + CDR +' + covariates # age and CDR as the independent variables\n",
    "smf.ols(formula= formula1,data=data,missing='drop').fit() # run multiple linear regression model"
   ],
   "metadata": {
    "collapsed": false
   }
  },
  {
   "cell_type": "markdown",
   "source": [
    "2. The effects of age, CDR rating and their interaction on cortex-wide system segregation:"
   ],
   "metadata": {
    "collapsed": false
   }
  },
  {
   "cell_type": "code",
   "execution_count": null,
   "outputs": [],
   "source": [
    "DV = 'wb_seg'\n",
    "formula2 = DV + '~ Age * CDR +' + covariates # age, CDR and their interactions as the independent variables\n",
    "smf.ols(formula= formula2,data=data,missing='drop').fit()"
   ],
   "metadata": {
    "collapsed": false
   }
  },
  {
   "cell_type": "markdown",
   "source": [
    "3. The effects of age, CDR rating and PET amyloid on cortex-wide system segregation:"
   ],
   "metadata": {
    "collapsed": false
   }
  },
  {
   "cell_type": "code",
   "execution_count": null,
   "outputs": [],
   "source": [
    "DV = 'wb_seg'\n",
    "formula1 = DV + '~ Age + CDR + SUVR +' + covariates # age, CDR and amyloid-beta as the independent variables, amyloid-beta is coded as a continuous variable\n",
    "smf.ols(formula= formula1,data=data,missing='drop').fit()"
   ],
   "metadata": {
    "collapsed": false,
    "pycharm": {
     "is_executing": true
    }
   }
  },
  {
   "cell_type": "code",
   "execution_count": null,
   "outputs": [],
   "source": [
    "DV = 'wb_seg'\n",
    "formula2 = DV + '~ Age + CDR + C(Patho_group,Sum) +' + covariates # age, CDR and amyloid-beta as the independent variables, amyloid-beta is coded as a categorical variable\n",
    "smf.ols(formula= formula2,data=data,missing='drop').fit()"
   ],
   "metadata": {
    "collapsed": false
   }
  },
  {
   "cell_type": "markdown",
   "source": [
    "#### II. Examining the effects of age and dementia severity on system segregation of specific types (sensory-motor vs. association):"
   ],
   "metadata": {
    "collapsed": false
   }
  },
  {
   "cell_type": "markdown",
   "source": [
    "1. Examining whether system type shows interaction with age or CDR on brain system segregation:"
   ],
   "metadata": {
    "collapsed": false
   }
  },
  {
   "cell_type": "markdown",
   "source": [
    "1) Examine whether there is an interaction effect between age and system type on system segregation:"
   ],
   "metadata": {
    "collapsed": false
   }
  },
  {
   "cell_type": "code",
   "execution_count": null,
   "outputs": [],
   "source": [
    "DV = 'sys_seg' # sensory-motor system segregation and association system segregation of each participant\n",
    "formula = DV + '~ Age * C(system_type,Sum) +' + covariates\n",
    "smf.mixedlm(formula= formula, data=data, groups=data[\"subj\"],missing='drop').fit()"
   ],
   "metadata": {
    "collapsed": false
   }
  },
  {
   "cell_type": "markdown",
   "source": [
    "2. Examine whether there is an interaction effect between CDR and system type on system segregation:"
   ],
   "metadata": {
    "collapsed": false
   }
  },
  {
   "cell_type": "code",
   "execution_count": null,
   "outputs": [],
   "source": [
    "DV = 'sys_seg'\n",
    "formula = DV + '~ CDR * C(system_type,Sum) +' + covariates\n",
    "smf.mixedlm(formula= formula, data=data, groups=data[\"subj\"],missing='drop').fit()"
   ],
   "metadata": {
    "collapsed": false
   }
  },
  {
   "cell_type": "markdown",
   "source": [
    "3. Examine whether there is an interaction effect between age, CDR and system type on system segregation:"
   ],
   "metadata": {
    "collapsed": false
   }
  },
  {
   "cell_type": "code",
   "execution_count": null,
   "outputs": [],
   "source": [
    "DV = 'sys_seg'\n",
    "formula = DV + '~ Age * CDR * C(system_type,Sum) +' + covariates\n",
    "smf.mixedlm(formula= formula, data=data, groups=data[\"subj\"],missing='drop').fit()"
   ],
   "metadata": {
    "collapsed": false
   }
  },
  {
   "cell_type": "markdown",
   "source": [
    "2. Examining the association between age, CDR and sensory-motor system segregation:"
   ],
   "metadata": {
    "collapsed": false
   }
  },
  {
   "cell_type": "code",
   "execution_count": null,
   "outputs": [],
   "source": [
    "DV = 'sensory_seg'\n",
    "formula1 = DV + '~ Age + CDR +' + covariates # age, CDR as the independent variables\n",
    "smf.ols(formula= formula1,data=data,missing='drop').fit()"
   ],
   "metadata": {
    "collapsed": false
   }
  },
  {
   "cell_type": "code",
   "execution_count": null,
   "outputs": [],
   "source": [
    "DV = 'sensory_seg'\n",
    "formula2 = DV + '~ Age * CDR +' + covariates # age, CDR and their interaction as the independent variables\n",
    "smf.ols(formula= formula2,data=data,missing='drop').fit()"
   ],
   "metadata": {
    "collapsed": false
   }
  },
  {
   "cell_type": "markdown",
   "source": [
    "3. Examining the association between age, CDR and association system segregation:"
   ],
   "metadata": {
    "collapsed": false
   }
  },
  {
   "cell_type": "code",
   "execution_count": null,
   "outputs": [],
   "source": [
    "DV = 'asso_seg'\n",
    "formula1 = DV + '~ Age + CDR +' + covariates # age, CDR as the independent variables\n",
    "smf.ols(formula= formula1,data=data,missing='drop').fit()"
   ],
   "metadata": {
    "collapsed": false
   }
  },
  {
   "cell_type": "code",
   "execution_count": null,
   "outputs": [],
   "source": [
    "DV = 'asso_seg'\n",
    "formula2 = DV + '~ Age * CDR +' + covariates # age, CDR and their interaction as the independent variables\n",
    "smf.ols(formula= formula2,data=data,missing='drop').fit()"
   ],
   "metadata": {
    "collapsed": false
   }
  },
  {
   "cell_type": "markdown",
   "source": [
    "III. Examining the effects of age and dementia severity on network interactions (within-system vs. between-system):"
   ],
   "metadata": {
    "collapsed": false
   }
  },
  {
   "cell_type": "markdown",
   "source": [
    "1. Examining whether types of network interactions (within-system vs. between-system) shows interaction with age or CDR on mean network interactions:"
   ],
   "metadata": {
    "collapsed": false
   }
  },
  {
   "cell_type": "markdown",
   "source": [
    "a) Examine whether there is an interaction effect between age and type of network interactions on mean network interactions:"
   ],
   "metadata": {
    "collapsed": false
   }
  },
  {
   "cell_type": "code",
   "execution_count": null,
   "outputs": [],
   "source": [
    "DV = 'mean_conn' # mean within-system and between-system network interactions of each participant\n",
    "formula = DV + '~ Age * C(network_type,Sum) +' + covariates\n",
    "smf.mixedlm(formula= formula, data=data, groups=data[\"subj\"],missing='drop').fit()"
   ],
   "metadata": {
    "collapsed": false
   }
  },
  {
   "cell_type": "markdown",
   "source": [
    "b) Examine whether there is an interaction effect between CDR and type of network interactions on mean network interactions:"
   ],
   "metadata": {
    "collapsed": false
   }
  },
  {
   "cell_type": "code",
   "execution_count": null,
   "outputs": [],
   "source": [
    "DV = 'mean_conn' # mean within-system and between-system network interactions of each participant\n",
    "formula = DV + '~ CDR * C(network_type,Sum) +' + covariates\n",
    "smf.mixedlm(formula= formula, data=data, groups=data[\"subj\"],missing='drop').fit()"
   ],
   "metadata": {
    "collapsed": false
   }
  },
  {
   "cell_type": "markdown",
   "source": [
    "c) Examine whether there is an interaction effect between CDR, age and type of network interactions on mean network interactions:"
   ],
   "metadata": {
    "collapsed": false
   }
  },
  {
   "cell_type": "code",
   "execution_count": null,
   "outputs": [],
   "source": [
    "DV = 'mean_conn' # mean within-system and between-system network interactions of each participant\n",
    "formula = DV + '~ Age * CDR * C(network_type,Sum) +' + covariates\n",
    "smf.mixedlm(formula= formula, data=data, groups=data[\"subj\"],missing='drop').fit()"
   ],
   "metadata": {
    "collapsed": false,
    "pycharm": {
     "is_executing": true
    }
   }
  },
  {
   "cell_type": "markdown",
   "source": [
    "2. Examine the effects of age and CDR on within-system network interactions:"
   ],
   "metadata": {
    "collapsed": false
   }
  },
  {
   "cell_type": "code",
   "execution_count": null,
   "outputs": [],
   "source": [
    "DV = 'within_conn'\n",
    "formula1 = DV + '~ Age + CDR +' + covariates # age, CDR as the independent variables\n",
    "smf.ols(formula= formula1,data=data,missing='drop').fit()"
   ],
   "metadata": {
    "collapsed": false
   }
  },
  {
   "cell_type": "code",
   "execution_count": null,
   "outputs": [],
   "source": [
    "DV = 'within_conn'\n",
    "formula1 = DV + '~ Age * CDR +' + covariates # age, CDR as the independent variables\n",
    "smf.ols(formula= formula1,data=data,missing='drop').fit()"
   ],
   "metadata": {
    "collapsed": false
   }
  },
  {
   "cell_type": "markdown",
   "source": [
    "3. Examine the effects of age and CDR on between-system network interactions:"
   ],
   "metadata": {
    "collapsed": false
   }
  },
  {
   "cell_type": "code",
   "execution_count": null,
   "outputs": [],
   "source": [
    "DV = 'between_conn'\n",
    "formula1 = DV + '~ Age + CDR +' + covariates # age, CDR as the independent variables\n",
    "smf.ols(formula= formula1,data=data,missing='drop').fit()"
   ],
   "metadata": {
    "collapsed": false
   }
  },
  {
   "cell_type": "code",
   "execution_count": null,
   "outputs": [],
   "source": [
    "DV = 'between_conn'\n",
    "formula1 = DV + '~ Age * CDR +' + covariates # age, CDR as the independent variables\n",
    "smf.ols(formula= formula1,data=data,missing='drop').fit()"
   ],
   "metadata": {
    "collapsed": false
   }
  }
 ],
 "metadata": {
  "kernelspec": {
   "display_name": "Python 3",
   "language": "python",
   "name": "python3"
  },
  "language_info": {
   "codemirror_mode": {
    "name": "ipython",
    "version": 2
   },
   "file_extension": ".py",
   "mimetype": "text/x-python",
   "name": "python",
   "nbconvert_exporter": "python",
   "pygments_lexer": "ipython2",
   "version": "2.7.6"
  }
 },
 "nbformat": 4,
 "nbformat_minor": 0
}

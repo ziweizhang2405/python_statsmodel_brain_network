{
 "cells": [
  {
   "cell_type": "markdown",
   "source": [
    "## Examining the effects of aging and dementia severity on brain system segregation"
   ],
   "metadata": {
    "collapsed": false
   }
  },
  {
   "cell_type": "markdown",
   "source": [
    "## Required python libraries"
   ],
   "metadata": {
    "collapsed": false
   }
  },
  {
   "cell_type": "code",
   "execution_count": null,
   "outputs": [],
   "source": [
    "# handling dataframes:\n",
    "import pandas\n",
    "import numpy\n",
    "\n",
    "# plot:\n",
    "import seaborn as sns\n",
    "\n",
    "# regression analyses:\n",
    "import statsmodels.formula.api as smf\n",
    "\n",
    "# multiple comparison correction:\n",
    "import statsmodels.stats.multitest as multiest"
   ],
   "metadata": {
    "collapsed": false
   }
  },
  {
   "cell_type": "markdown",
   "source": [
    "## Statistical models"
   ],
   "metadata": {
    "collapsed": false
   }
  },
  {
   "cell_type": "markdown",
   "source": [
    "### I. Examining the effects of age and CDR status on brain system segregation:"
   ],
   "metadata": {
    "collapsed": false
   }
  },
  {
   "cell_type": "code",
   "execution_count": 1,
   "outputs": [],
   "source": [
    "# define covariates:\n",
    "# self-reported gender,years of education, head motion (post-scrubbing FD)\n",
    "covariates = 'C(Gender, Sum) + C(Educ_group, Sum) + FD_postscrub'"
   ],
   "metadata": {
    "collapsed": false,
    "ExecuteTime": {
     "end_time": "2023-07-25T18:29:53.120055Z",
     "start_time": "2023-07-25T18:29:53.067128Z"
    }
   }
  },
  {
   "cell_type": "code",
   "execution_count": null,
   "outputs": [],
   "source": [
    "# converting gender and education to categorical variables\n",
    "data.loc[:,['Gender','Educ_group']] = data.loc[:,['Gender','Educ_group']].astype(\"category\")\n",
    "data.loc[:,['Age']] = data.loc[:,['Age']].astype(\"int\") # converting age to integers"
   ],
   "metadata": {
    "collapsed": false
   }
  },
  {
   "cell_type": "markdown",
   "source": [
    "1. The effects of age, CDR rating and their interaction on cortex-wide system segregation:"
   ],
   "metadata": {
    "collapsed": false
   }
  },
  {
   "cell_type": "code",
   "execution_count": null,
   "outputs": [],
   "source": [
    "DV = 'wb_seg' # the dependent variable: cortex-wide system segregation\n",
    "formula = DV + '~ Age * CDR +' + covariates # independent variables: age, CDR status and interaction\n",
    "smf.ols(formula= formula,data=data,missing='drop').fit()"
   ],
   "metadata": {
    "collapsed": false
   }
  },
  {
   "cell_type": "markdown",
   "source": [
    "2. The main effects of age and CDR rating on cortex-wide system segregation:"
   ],
   "metadata": {
    "collapsed": false
   }
  },
  {
   "cell_type": "markdown",
   "source": [
    "- When CDR is coded as a continuous variable:"
   ],
   "metadata": {
    "collapsed": false
   }
  },
  {
   "cell_type": "code",
   "execution_count": null,
   "outputs": [],
   "source": [
    "DV = 'wb_seg' # the dependent variable: cortex-wide system segregation\n",
    "formula = DV + '~ Age + CDR +' + covariates # independent variables: age and CDR status\n",
    "smf.ols(formula= formula,data=data,missing='drop').fit() # run multiple linear regression model"
   ],
   "metadata": {
    "collapsed": false
   }
  },
  {
   "cell_type": "markdown",
   "source": [
    "- When CDR is coded as a categorical variable:"
   ],
   "metadata": {
    "collapsed": false
   }
  },
  {
   "cell_type": "code",
   "execution_count": null,
   "outputs": [],
   "source": [
    "DV = 'wb_seg' # the dependent variable: cortex-wide system segregation\n",
    "formula = DV + '~ Age + C(CDR,Treatment) +' + covariates # independent variables: age and CDR status\n",
    "smf.ols(formula= formula,data=data,missing='drop').fit() # run multiple linear regression model"
   ],
   "metadata": {
    "collapsed": false
   }
  },
  {
   "cell_type": "markdown",
   "source": [
    "3. The effects of age, CDR, and cortical Aβ deposition on cortex-wide system segregation:"
   ],
   "metadata": {
    "collapsed": false
   }
  },
  {
   "cell_type": "markdown",
   "source": [
    "- Aβ deposition is measured by PET Aβ SUVR:"
   ],
   "metadata": {
    "collapsed": false
   }
  },
  {
   "cell_type": "code",
   "execution_count": null,
   "outputs": [],
   "source": [
    "DV = 'wb_seg' # the dependent variable: cortex-wide system segregation\n",
    "formula1 = DV + '~ Age + CDR + SUVR +' + covariates # independent variables: age, CDR status and PET Aβ SUVR\n",
    "smf.ols(formula= formula,data=data,missing='drop').fit()"
   ],
   "metadata": {
    "collapsed": false,
    "pycharm": {
     "is_executing": true
    }
   }
  },
  {
   "cell_type": "markdown",
   "source": [
    "- Aβ deposition is coded based on PET Aβ cutoff points:"
   ],
   "metadata": {
    "collapsed": false
   }
  },
  {
   "cell_type": "code",
   "execution_count": null,
   "outputs": [],
   "source": [
    "DV = 'wb_seg' # the dependent variable: cortex-wide system segregation\n",
    "formula2 = DV + '~ Age + CDR + C(Patho_group,Treatment) +' + covariates\n",
    "# independent variables: age, CDR status, Aβ status\n",
    "smf.ols(formula= formula,data=data,missing='drop').fit()"
   ],
   "metadata": {
    "collapsed": false
   }
  },
  {
   "cell_type": "markdown",
   "source": [
    "4. The effects of age, CDR and APOE4 status on cortex-wide system segregation:"
   ],
   "metadata": {
    "collapsed": false
   }
  },
  {
   "cell_type": "code",
   "execution_count": null,
   "outputs": [],
   "source": [
    "DV = 'wb_seg' # the dependent variable: cortex-wide system segregation\n",
    "formula = DV + '~ Age + CDR + C(APOE4_group,Sum)' + covariates # independent variables: age, CDR and APOE4 status\n",
    "smf.ols(formula= formula,data=data,missing='drop').fit() # run multiple linear regression model"
   ],
   "metadata": {
    "collapsed": false,
    "pycharm": {
     "is_executing": true
    }
   }
  },
  {
   "cell_type": "markdown",
   "source": [
    "5. The effects of age, CDR and vital signs on cortex-wide system segregation:"
   ],
   "metadata": {
    "collapsed": false
   }
  },
  {
   "cell_type": "code",
   "execution_count": null,
   "outputs": [],
   "source": [
    "DV = 'wb_seg' # the dependent variable: cortex-wide system segregation\n",
    "formula = DV + '~ Age + CDR + Pulse + Respiration' + covariates # independent variables: CDR, age, pulse and respiration rate\n",
    "smf.ols(formula= formula,data=data,missing='drop').fit() # run multiple linear regression model"
   ],
   "metadata": {
    "collapsed": false
   }
  },
  {
   "cell_type": "markdown",
   "source": [
    "### II. Examining whether the effects of age and dementia severity vary according to system type (sensory-motor vs. association system):"
   ],
   "metadata": {
    "collapsed": false
   }
  },
  {
   "cell_type": "markdown",
   "source": [
    "1. Examine whether the interaction between age, CDR and system type on system segregation is significant:"
   ],
   "metadata": {
    "collapsed": false
   }
  },
  {
   "cell_type": "code",
   "execution_count": null,
   "outputs": [],
   "source": [
    "DV = 'sys_seg'\n",
    "formula = DV + '~ Age * CDR * C(system_type,Sum) +' + covariates\n",
    "smf.mixedlm(formula= formula, data=data, groups=data[\"subj\"],missing='drop').fit()"
   ],
   "metadata": {
    "collapsed": false
   }
  },
  {
   "cell_type": "markdown",
   "source": [
    "2. Examining whether the interaction between age and system type on system segregation is significant:"
   ],
   "metadata": {
    "collapsed": false
   }
  },
  {
   "cell_type": "code",
   "execution_count": null,
   "outputs": [],
   "source": [
    "DV = 'sys_seg' # sensory-motor system segregation and association system segregation of each participant\n",
    "formula = DV + '~ Age * C(system_type,Sum) + CDR +' + covariates # independent variable: interaction between system type and age\n",
    "smf.mixedlm(formula= formula, data=data, groups=data[\"subj\"],missing='drop').fit()"
   ],
   "metadata": {
    "collapsed": false
   }
  },
  {
   "cell_type": "markdown",
   "source": [
    "3. Examining whether the interaction between CDR status and system type on system segregation is significant:"
   ],
   "metadata": {
    "collapsed": false
   }
  },
  {
   "cell_type": "code",
   "execution_count": null,
   "outputs": [],
   "source": [
    "DV = 'sys_seg' # sensory-motor system segregation and association system segregation of each participant\n",
    "formula = DV + '~ CDR * C(system_type,Sum) + Age +' + covariates # independent variable: interaction between system type and CDR\n",
    "smf.mixedlm(formula= formula, data=data, groups=data[\"subj\"],missing='drop').fit()"
   ],
   "metadata": {
    "collapsed": false
   }
  },
  {
   "cell_type": "markdown",
   "source": [
    "### III. Examining whether the effects of age and dementia severity vary according to types of network interactions (within-system vs. between-system):"
   ],
   "metadata": {
    "collapsed": false
   }
  },
  {
   "cell_type": "markdown",
   "source": [
    "1. Examining whether the interaction between CDR, age and type of network interactions on mean network interactions is significant:"
   ],
   "metadata": {
    "collapsed": false
   }
  },
  {
   "cell_type": "code",
   "execution_count": null,
   "outputs": [],
   "source": [
    "DV = 'mean_conn' # mean within-system and between-system network interactions of each participant\n",
    "formula = DV + '~ Age * CDR * C(network_type,Sum) +' + covariates\n",
    "smf.mixedlm(formula= formula, data=data, groups=data[\"subj\"],missing='drop').fit()"
   ],
   "metadata": {
    "collapsed": false,
    "pycharm": {
     "is_executing": true
    }
   }
  },
  {
   "cell_type": "markdown",
   "source": [
    "2. Examining whether the interaction between age and type of network interactions on mean network interactions is significant:"
   ],
   "metadata": {
    "collapsed": false
   }
  },
  {
   "cell_type": "code",
   "execution_count": null,
   "outputs": [],
   "source": [
    "DV = 'mean_conn' # mean within-system and between-system network interactions of each participant\n",
    "formula = DV + '~ Age * C(network_type,Sum) + CDR +' + covariates\n",
    "smf.mixedlm(formula= formula, data=data, groups=data[\"subj\"],missing='drop').fit()"
   ],
   "metadata": {
    "collapsed": false
   }
  },
  {
   "cell_type": "markdown",
   "source": [
    "3. Examining whether the interaction effect between CDR and type of network interactions on mean network interactions is significant:"
   ],
   "metadata": {
    "collapsed": false
   }
  },
  {
   "cell_type": "code",
   "execution_count": null,
   "outputs": [],
   "source": [
    "DV = 'mean_conn' # mean within-system and between-system network interactions of each participant\n",
    "formula = DV + '~ CDR * C(network_type,Sum) + Age' + covariates\n",
    "smf.mixedlm(formula= formula, data=data, groups=data[\"subj\"],missing='drop').fit()"
   ],
   "metadata": {
    "collapsed": false
   }
  },
  {
   "cell_type": "markdown",
   "source": [
    "### IV. Examining the effects of age and ADAS-cog on brain system segregation:"
   ],
   "metadata": {
    "collapsed": false
   }
  },
  {
   "cell_type": "markdown",
   "source": [
    "1. The effects of age and ADAS-cog on cortex-wide brain system segregation:"
   ],
   "metadata": {
    "collapsed": false
   }
  },
  {
   "cell_type": "code",
   "execution_count": null,
   "outputs": [],
   "source": [
    "DV = 'wb_seg' # the dependent variable: cortex-wide system segregation\n",
    "formula = DV + '~ Age + ADAS +' + covariates # independent variables: age and ADAS-cog scores\n",
    "smf.ols(formula= formula,data=data,missing='drop').fit() # run multiple linear regression model"
   ],
   "metadata": {
    "collapsed": false
   }
  },
  {
   "cell_type": "markdown",
   "source": [
    "2. The effects of age and ADAS-cog on sensory-motor system segregation:"
   ],
   "metadata": {
    "collapsed": false
   }
  },
  {
   "cell_type": "code",
   "execution_count": null,
   "outputs": [],
   "source": [
    "DV = 'sensory_seg' # the dependent variable: sensory-motor system segregation\n",
    "formula = DV + '~ Age + ADAS +' + covariates # independent variables: age and ADAS-cog scores\n",
    "smf.ols(formula= formula,data=data,missing='drop').fit() # run multiple linear regression model"
   ],
   "metadata": {
    "collapsed": false
   }
  },
  {
   "cell_type": "markdown",
   "source": [
    "3. The effects of age and ADAS-cog on association system segregation:"
   ],
   "metadata": {
    "collapsed": false
   }
  },
  {
   "cell_type": "code",
   "execution_count": null,
   "outputs": [],
   "source": [
    "DV = 'asso_seg' # the dependent variable: association system segregation\n",
    "formula = DV + '~ Age + ADAS +' + covariates # independent variables: age and ADAS-cog scores\n",
    "smf.ols(formula= formula,data=data,missing='drop').fit() # run multiple linear regression model"
   ],
   "metadata": {
    "collapsed": false
   }
  },
  {
   "cell_type": "markdown",
   "source": [
    "4. The effects of age and ADAS-cog on within-system network interactions:"
   ],
   "metadata": {
    "collapsed": false
   }
  },
  {
   "cell_type": "code",
   "execution_count": null,
   "outputs": [],
   "source": [
    "DV = 'within_conn' # the dependent variable: within-system network interactions\n",
    "formula = DV + '~ Age + ADAS +' + covariates # independent variables: age and ADAS-cog scores\n",
    "smf.ols(formula= formula,data=data,missing='drop').fit() # run multiple linear regression model"
   ],
   "metadata": {
    "collapsed": false
   }
  },
  {
   "cell_type": "markdown",
   "source": [
    "5. The effects of age and ADAS-cog on between-system network interactions:"
   ],
   "metadata": {
    "collapsed": false
   }
  },
  {
   "cell_type": "code",
   "execution_count": null,
   "outputs": [],
   "source": [
    "DV = 'between_conn' # the dependent variable: between-system network interactions\n",
    "formula = DV + '~ Age + ADAS +' + covariates # independent variables: age and ADAS-cog scores\n",
    "smf.ols(formula= formula,data=data,missing='drop').fit() # run multiple linear regression model"
   ],
   "metadata": {
    "collapsed": false
   }
  }
 ],
 "metadata": {
  "kernelspec": {
   "display_name": "Python 3",
   "language": "python",
   "name": "python3"
  },
  "language_info": {
   "codemirror_mode": {
    "name": "ipython",
    "version": 2
   },
   "file_extension": ".py",
   "mimetype": "text/x-python",
   "name": "python",
   "nbconvert_exporter": "python",
   "pygments_lexer": "ipython2",
   "version": "2.7.6"
  }
 },
 "nbformat": 4,
 "nbformat_minor": 0
}
